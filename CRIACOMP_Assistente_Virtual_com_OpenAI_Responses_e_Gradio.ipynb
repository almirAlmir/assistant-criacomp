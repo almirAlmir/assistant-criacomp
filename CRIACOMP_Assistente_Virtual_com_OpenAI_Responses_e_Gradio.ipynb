{
  "cells": [
    {
      "cell_type": "markdown",
      "metadata": {
        "id": "view-in-github",
        "colab_type": "text"
      },
      "source": [
        "<a href=\"https://colab.research.google.com/github/almirAlmir/assistant-criacomp/blob/main/CRIACOMP_Assistente_Virtual_com_OpenAI_Responses_e_Gradio.ipynb\" target=\"_parent\"><img src=\"https://colab.research.google.com/assets/colab-badge.svg\" alt=\"Open In Colab\"/></a>"
      ]
    },
    {
      "cell_type": "code",
      "execution_count": 1,
      "metadata": {
        "id": "3mWmijGJQBtk"
      },
      "outputs": [],
      "source": [
        "!pip install -q openai gradio tdqm"
      ]
    },
    {
      "cell_type": "code",
      "execution_count": 2,
      "metadata": {
        "id": "LZasoi75QWUl"
      },
      "outputs": [],
      "source": [
        "from google.colab import userdata\n",
        "from openai import OpenAI\n",
        "from tqdm import tqdm\n",
        "import gradio as gr\n",
        "import concurrent\n",
        "import os"
      ]
    },
    {
      "cell_type": "code",
      "source": [
        "os.makedirs('/content/input_pdfs', exist_ok=True)"
      ],
      "metadata": {
        "id": "aaaMYFYE-5nP"
      },
      "execution_count": 3,
      "outputs": []
    },
    {
      "cell_type": "code",
      "execution_count": 4,
      "metadata": {
        "id": "5uJCdT_wQgzM",
        "collapsed": true
      },
      "outputs": [],
      "source": [
        "client = OpenAI(api_key=userdata.get('OPENAI_API_KEY'))\n",
        "dir_pdfs = '/content/input_pdfs'\n",
        "pdf_files = [os.path.join(dir_pdfs, f) for f in os.listdir(dir_pdfs)]"
      ]
    },
    {
      "cell_type": "code",
      "execution_count": 5,
      "metadata": {
        "id": "MB_HUg0dQmq4"
      },
      "outputs": [],
      "source": [
        "def upload_single_pdf(file_path: str, vector_store_id: str):\n",
        "    file_name = os.path.basename(file_path)\n",
        "    try:\n",
        "        file_response = client.files.create(file=open(file_path, 'rb'), purpose=\"assistants\")\n",
        "        attach_response = client.vector_stores.files.create(\n",
        "            vector_store_id=vector_store_id,\n",
        "            file_id=file_response.id\n",
        "        )\n",
        "        return {\"file\": file_name, \"status\": \"success\"}\n",
        "    except Exception as e:\n",
        "        print(f\"Error with {file_name}: {str(e)}\")\n",
        "        return {\"file\": file_name, \"status\": \"failed\", \"error\": str(e)}\n",
        "\n",
        "def upload_pdf_files_to_vector_store(vector_store_id: str, pdf_files: list):\n",
        "    stats = {\"total_files\": len(pdf_files), \"successful_uploads\": 0, \"failed_uploads\": 0, \"errors\": []}\n",
        "\n",
        "    print(f\"{len(pdf_files)} PDF files to process. Uploading in parallel...\")\n",
        "\n",
        "    with concurrent.futures.ThreadPoolExecutor(max_workers=10) as executor:\n",
        "        futures = {executor.submit(upload_single_pdf, file_path, vector_store_id): file_path for file_path in pdf_files}\n",
        "        for future in tqdm(concurrent.futures.as_completed(futures), total=len(pdf_files)):\n",
        "            result = future.result()\n",
        "            if result[\"status\"] == \"success\":\n",
        "                stats[\"successful_uploads\"] += 1\n",
        "            else:\n",
        "                stats[\"failed_uploads\"] += 1\n",
        "                stats[\"errors\"].append(result)\n",
        "\n",
        "    return stats\n",
        "\n",
        "def create_vector_store(store_name: str) -> dict:\n",
        "    try:\n",
        "        vector_store = client.vector_stores.create(name=store_name)\n",
        "        details = {\n",
        "            \"id\": vector_store.id,\n",
        "            \"name\": vector_store.name,\n",
        "            \"created_at\": vector_store.created_at,\n",
        "            \"file_count\": vector_store.file_counts.completed\n",
        "        }\n",
        "        print(\"Vector store created:\", details)\n",
        "        return details\n",
        "    except Exception as e:\n",
        "        print(f\"Error creating vector store: {e}\")\n",
        "        return {}"
      ]
    },
    {
      "cell_type": "code",
      "execution_count": 6,
      "metadata": {
        "id": "MRxUmNrFRnla",
        "collapsed": true,
        "colab": {
          "base_uri": "https://localhost:8080/"
        },
        "outputId": "f96070d9-5497-4ce4-ec3f-9265e73c8f1d"
      },
      "outputs": [
        {
          "output_type": "stream",
          "name": "stdout",
          "text": [
            "Vector store created: {'id': 'vs_67fed6b612708191a794789c12bd1483', 'name': 'my_vector_store', 'created_at': 1744754358, 'file_count': 0}\n",
            "25 PDF files to process. Uploading in parallel...\n"
          ]
        },
        {
          "output_type": "stream",
          "name": "stderr",
          "text": [
            "100%|██████████| 25/25 [00:06<00:00,  4.02it/s]\n"
          ]
        },
        {
          "output_type": "execute_result",
          "data": {
            "text/plain": [
              "{'total_files': 25,\n",
              " 'successful_uploads': 25,\n",
              " 'failed_uploads': 0,\n",
              " 'errors': []}"
            ]
          },
          "metadata": {},
          "execution_count": 6
        }
      ],
      "source": [
        "store_name = \"my_vector_store\"\n",
        "vector_store_details = create_vector_store(store_name)\n",
        "upload_pdf_files_to_vector_store(vector_store_details[\"id\"], pdf_files)"
      ]
    },
    {
      "cell_type": "code",
      "execution_count": 19,
      "metadata": {
        "id": "LJpZuiGRQuWn"
      },
      "outputs": [],
      "source": [
        "def response_output(query, history):\n",
        "  response = client.responses.create(\n",
        "    model=\"gpt-4o-mini\",\n",
        "    input=[\n",
        "        {\"role\": \"system\", \"content\": \"Você é um assistente virtual especializado em responder perguntas sobre a coordenação de Extensão do Centro de Informática (CIn/UFPE). Use as informações contidas nos documentos fornecidos para gerar suas respostas em Português Brasileiro.\"},\n",
        "        {\"role\": \"user\", \"content\": query}\n",
        "    ],\n",
        "    tools=[\n",
        "        {\n",
        "            \"type\": \"file_search\",\n",
        "            \"vector_store_ids\": [vector_store_details['id']],\n",
        "        }\n",
        "    ]\n",
        "  )\n",
        "\n",
        "\n",
        "  return response.output[-1].content[0].text #Se o conteudo da resposta estiver na ferramenta"
      ]
    },
    {
      "cell_type": "code",
      "execution_count": 20,
      "metadata": {
        "id": "sdLnSKI1QzFw",
        "colab": {
          "base_uri": "https://localhost:8080/",
          "height": 651
        },
        "outputId": "3ac9c9c7-0fa8-4d2d-89f3-fa2cbbed6572"
      },
      "outputs": [
        {
          "output_type": "stream",
          "name": "stdout",
          "text": [
            "<function response_output at 0x7af4d40ae020>\n",
            "Colab notebook detected. This cell will run indefinitely so that you can see errors and logs. To turn off, set debug=False in launch().\n",
            "Note: opening Chrome Inspector may crash demo inside Colab notebooks.\n",
            "\n",
            "To create a public link, set `share=True` in `launch()`.\n"
          ]
        },
        {
          "output_type": "display_data",
          "data": {
            "text/plain": [
              "<IPython.core.display.Javascript object>"
            ],
            "application/javascript": [
              "(async (port, path, width, height, cache, element) => {\n",
              "                        if (!google.colab.kernel.accessAllowed && !cache) {\n",
              "                            return;\n",
              "                        }\n",
              "                        element.appendChild(document.createTextNode(''));\n",
              "                        const url = await google.colab.kernel.proxyPort(port, {cache});\n",
              "\n",
              "                        const external_link = document.createElement('div');\n",
              "                        external_link.innerHTML = `\n",
              "                            <div style=\"font-family: monospace; margin-bottom: 0.5rem\">\n",
              "                                Running on <a href=${new URL(path, url).toString()} target=\"_blank\">\n",
              "                                    https://localhost:${port}${path}\n",
              "                                </a>\n",
              "                            </div>\n",
              "                        `;\n",
              "                        element.appendChild(external_link);\n",
              "\n",
              "                        const iframe = document.createElement('iframe');\n",
              "                        iframe.src = new URL(path, url).toString();\n",
              "                        iframe.height = height;\n",
              "                        iframe.allow = \"autoplay; camera; microphone; clipboard-read; clipboard-write;\"\n",
              "                        iframe.width = width;\n",
              "                        iframe.style.border = 0;\n",
              "                        element.appendChild(iframe);\n",
              "                    })(7860, \"/\", \"100%\", 500, false, window.element)"
            ]
          },
          "metadata": {}
        },
        {
          "output_type": "stream",
          "name": "stdout",
          "text": [
            "Keyboard interruption in main thread... closing server.\n"
          ]
        },
        {
          "output_type": "execute_result",
          "data": {
            "text/plain": []
          },
          "metadata": {},
          "execution_count": 20
        }
      ],
      "source": [
        "demo = gr.ChatInterface(\n",
        "    response_output,\n",
        "    type=\"messages\"\n",
        ")\n",
        "print(response_output)\n",
        "demo.launch(debug=True)"
      ]
    }
  ],
  "metadata": {
    "colab": {
      "provenance": [],
      "include_colab_link": true
    },
    "kernelspec": {
      "display_name": "Python 3",
      "name": "python3"
    },
    "language_info": {
      "name": "python"
    }
  },
  "nbformat": 4,
  "nbformat_minor": 0
}